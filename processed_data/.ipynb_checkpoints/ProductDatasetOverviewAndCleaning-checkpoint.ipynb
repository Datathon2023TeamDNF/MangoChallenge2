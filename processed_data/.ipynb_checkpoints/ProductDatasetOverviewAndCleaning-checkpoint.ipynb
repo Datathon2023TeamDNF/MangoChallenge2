{
 "cells": [
  {
   "cell_type": "markdown",
   "metadata": {
    "id": "Wtk5hNZwW14A"
   },
   "source": [
    "First, we import pandas."
   ]
  },
  {
   "cell_type": "code",
   "execution_count": 3,
   "metadata": {
    "id": "XKo1ibZhTzsB"
   },
   "outputs": [
    {
     "ename": "ModuleNotFoundError",
     "evalue": "No module named 'pandas'",
     "output_type": "error",
     "traceback": [
      "\u001b[0;31m---------------------------------------------------------------------------\u001b[0m",
      "\u001b[0;31mModuleNotFoundError\u001b[0m                       Traceback (most recent call last)",
      "\u001b[0;32m<ipython-input-3-7dd3504c366f>\u001b[0m in \u001b[0;36m<module>\u001b[0;34m\u001b[0m\n\u001b[0;32m----> 1\u001b[0;31m \u001b[0;32mimport\u001b[0m \u001b[0mpandas\u001b[0m \u001b[0;32mas\u001b[0m \u001b[0mpd\u001b[0m\u001b[0;34m\u001b[0m\u001b[0;34m\u001b[0m\u001b[0m\n\u001b[0m",
      "\u001b[0;31mModuleNotFoundError\u001b[0m: No module named 'pandas'"
     ]
    }
   ],
   "source": [
    "import pandas as pd"
   ]
  },
  {
   "cell_type": "code",
   "execution_count": null,
   "metadata": {
    "id": "zyFUgNBrWoin"
   },
   "outputs": [],
   "source": [
    "url = 'product_data.csv'\n",
    "rawdata = pd.read_csv(url, index_col=0)"
   ]
  },
  {
   "cell_type": "code",
   "execution_count": null,
   "metadata": {
    "colab": {
     "base_uri": "https://localhost:8080/"
    },
    "id": "_hwsF-uDYKqh",
    "outputId": "e87e24a2-d271-44a5-aa83-d3b72a7fd0dc"
   },
   "outputs": [
    {
     "name": "stdout",
     "output_type": "stream",
     "text": [
      "                 cod_color_code des_color_specification_esp  \\\n",
      "cod_modelo_color                                              \n",
      "41085800-02                  02                    OFFWHITE   \n",
      "53000586-TO                  TO               TEJANO OSCURO   \n",
      "53030601-81                  81                 ROSA PASTEL   \n",
      "53050730-15                  15                     MOSTAZA   \n",
      "53070773-70                  70                        ROJO   \n",
      "\n",
      "                 des_agrup_color_eng des_sex des_age des_line des_fabric  \\\n",
      "cod_modelo_color                                                           \n",
      "41085800-02                    WHITE  Female   Adult      SHE    P-PLANA   \n",
      "53000586-TO                     BLUE  Female   Adult      SHE    J-JEANS   \n",
      "53030601-81                     PINK  Female   Adult      SHE    P-PLANA   \n",
      "53050730-15                   YELLOW  Female   Adult      SHE    P-PLANA   \n",
      "53070773-70                      RED  Female   Adult      SHE    P-PLANA   \n",
      "\n",
      "                                 des_product_category  \\\n",
      "cod_modelo_color                                        \n",
      "41085800-02                                   Bottoms   \n",
      "53000586-TO                                   Bottoms   \n",
      "53030601-81       Dresses, jumpsuits and Complete set   \n",
      "53050730-15       Dresses, jumpsuits and Complete set   \n",
      "53070773-70                                      Tops   \n",
      "\n",
      "                 des_product_aggregated_family des_product_family  \\\n",
      "cod_modelo_color                                                    \n",
      "41085800-02                Trousers & leggings           Trousers   \n",
      "53000586-TO                              Jeans              Jeans   \n",
      "53030601-81              Dresses and jumpsuits            Dresses   \n",
      "53050730-15              Dresses and jumpsuits            Dresses   \n",
      "53070773-70                             Shirts              Shirt   \n",
      "\n",
      "                 des_product_type                          des_filename  \n",
      "cod_modelo_color                                                         \n",
      "41085800-02              Trousers  datathon/images/2019_41085800_02.jpg  \n",
      "53000586-TO                 Jeans  datathon/images/2019_53000586_TO.jpg  \n",
      "53030601-81                 Dress  datathon/images/2019_53030601_81.jpg  \n",
      "53050730-15                 Dress  datathon/images/2019_53050730_15.jpg  \n",
      "53070773-70                 Shirt  datathon/images/2019_53070773_70.jpg  \n"
     ]
    }
   ],
   "source": [
    "print(rawdata.head())"
   ]
  },
  {
   "cell_type": "code",
   "execution_count": null,
   "metadata": {
    "colab": {
     "base_uri": "https://localhost:8080/"
    },
    "id": "wQZAH4cjYYM8",
    "outputId": "4bd37a4a-3b2a-4178-9ea7-4b65467e3de7"
   },
   "outputs": [
    {
     "name": "stdout",
     "output_type": "stream",
     "text": [
      "(9222, 12)\n"
     ]
    }
   ],
   "source": [
    "print(rawdata.shape)"
   ]
  },
  {
   "cell_type": "code",
   "execution_count": null,
   "metadata": {
    "colab": {
     "base_uri": "https://localhost:8080/"
    },
    "id": "VPTtG7u2axFG",
    "outputId": "a548e9d0-2343-4c14-9a84-e97e99b42013"
   },
   "outputs": [
    {
     "name": "stdout",
     "output_type": "stream",
     "text": [
      "Index(['cod_color_code', 'des_color_specification_esp', 'des_agrup_color_eng',\n",
      "       'des_sex', 'des_age', 'des_line', 'des_fabric', 'des_product_category',\n",
      "       'des_product_aggregated_family', 'des_product_family',\n",
      "       'des_product_type', 'des_filename'],\n",
      "      dtype='object')\n"
     ]
    }
   ],
   "source": [
    "print(rawdata.columns)"
   ]
  },
  {
   "cell_type": "code",
   "execution_count": null,
   "metadata": {
    "colab": {
     "base_uri": "https://localhost:8080/"
    },
    "id": "Ufm0KizhbQkX",
    "outputId": "4f1df44f-36eb-455e-8c65-452cbeac8975"
   },
   "outputs": [
    {
     "name": "stdout",
     "output_type": "stream",
     "text": [
      "99    2119\n",
      "05     608\n",
      "02     563\n",
      "OR     445\n",
      "01     426\n",
      "      ... \n",
      "TL       1\n",
      "66       1\n",
      "93       1\n",
      "73       1\n",
      "97       1\n",
      "Name: cod_color_code, Length: 110, dtype: int64\n"
     ]
    }
   ],
   "source": [
    "cod_counts = rawdata['cod_color_code'].value_counts()\n",
    "print(cod_counts)"
   ]
  },
  {
   "cell_type": "code",
   "execution_count": null,
   "metadata": {
    "id": "IgEXbr3vdZtg"
   },
   "outputs": [],
   "source": [
    "MIN_COD_FREQ = 30\n",
    "ndata1 = rawdata[rawdata['cod_color_code'].isin(cod_counts[cod_counts.gt(MIN_COD_FREQ)].index)]"
   ]
  },
  {
   "cell_type": "code",
   "execution_count": null,
   "metadata": {
    "colab": {
     "base_uri": "https://localhost:8080/"
    },
    "id": "6uI75uRge_Vv",
    "outputId": "1dcfc4bd-b9e7-42c9-e78d-3be8afd8279f"
   },
   "outputs": [
    {
     "name": "stdout",
     "output_type": "stream",
     "text": [
      "(48,)\n",
      "(9222, 12)\n",
      "(8606, 12)\n"
     ]
    }
   ],
   "source": [
    "print(ndata1['cod_color_code'].value_counts().shape)\n",
    "print(rawdata.shape)\n",
    "print(ndata1.shape)"
   ]
  },
  {
   "cell_type": "code",
   "execution_count": null,
   "metadata": {
    "colab": {
     "base_uri": "https://localhost:8080/"
    },
    "id": "oFJUDVe6tURg",
    "outputId": "90fa3320-fb63-48b0-95ec-002613c4008f"
   },
   "outputs": [
    {
     "name": "stdout",
     "output_type": "stream",
     "text": [
      "GREY      2824\n",
      "WHITE     2769\n",
      "BLUE       849\n",
      "BROWN      655\n",
      "RED        348\n",
      "GREEN      347\n",
      "PINK       346\n",
      "YELLOW     218\n",
      "ORANGE     169\n",
      "PURPLE      81\n",
      "Name: des_agrup_color_eng, dtype: int64\n"
     ]
    }
   ],
   "source": [
    "agrup_counts = ndata1['des_agrup_color_eng'].value_counts()\n",
    "print(agrup_counts)"
   ]
  },
  {
   "cell_type": "code",
   "execution_count": null,
   "metadata": {
    "colab": {
     "base_uri": "https://localhost:8080/"
    },
    "id": "vMTLCyQ0txtd",
    "outputId": "706024ba-4c3c-4288-d7db-5689bc937306"
   },
   "outputs": [
    {
     "name": "stdout",
     "output_type": "stream",
     "text": [
      "(8532, 12)\n",
      "<bound method NDFrame.head of                  cod_color_code des_color_specification_esp  \\\n",
      "cod_modelo_color                                              \n",
      "41085800-02                  02                    OFFWHITE   \n",
      "53000586-TO                  TO               TEJANO OSCURO   \n",
      "53030601-81                  81                 ROSA PASTEL   \n",
      "53050730-15                  15                     MOSTAZA   \n",
      "53070773-70                  70                        ROJO   \n",
      "...                         ...                         ...   \n",
      "57066027-99                  99                       NEGRO   \n",
      "57076028-92                  92                        GRIS   \n",
      "57068275-05                  05                       CRUDO   \n",
      "57067125-78                  78                     BURDEOS   \n",
      "57039120-PL                  PL                       PLATA   \n",
      "\n",
      "                 des_agrup_color_eng des_sex des_age des_line      des_fabric  \\\n",
      "cod_modelo_color                                                                \n",
      "41085800-02                    WHITE  Female   Adult      SHE         P-PLANA   \n",
      "53000586-TO                     BLUE  Female   Adult      SHE         J-JEANS   \n",
      "53030601-81                     PINK  Female   Adult      SHE         P-PLANA   \n",
      "53050730-15                   YELLOW  Female   Adult      SHE         P-PLANA   \n",
      "53070773-70                      RED  Female   Adult      SHE         P-PLANA   \n",
      "...                              ...     ...     ...      ...             ...   \n",
      "57066027-99                     GREY  Female   Adult      SHE         P-PLANA   \n",
      "57076028-92                     GREY  Female   Adult      SHE         P-PLANA   \n",
      "57068275-05                    WHITE  Female   Adult      SHE  C-COMPLEMENTOS   \n",
      "57067125-78                      RED  Female   Adult      SHE      K-CIRCULAR   \n",
      "57039120-PL                     GREY  Female   Adult      SHE        T-TRICOT   \n",
      "\n",
      "                                 des_product_category  \\\n",
      "cod_modelo_color                                        \n",
      "41085800-02                                   Bottoms   \n",
      "53000586-TO                                   Bottoms   \n",
      "53030601-81       Dresses, jumpsuits and Complete set   \n",
      "53050730-15       Dresses, jumpsuits and Complete set   \n",
      "53070773-70                                      Tops   \n",
      "...                                               ...   \n",
      "57066027-99       Dresses, jumpsuits and Complete set   \n",
      "57076028-92                                   Bottoms   \n",
      "57068275-05             Accesories, Swim and Intimate   \n",
      "57067125-78       Dresses, jumpsuits and Complete set   \n",
      "57039120-PL                                      Tops   \n",
      "\n",
      "                 des_product_aggregated_family des_product_family  \\\n",
      "cod_modelo_color                                                    \n",
      "41085800-02                Trousers & leggings           Trousers   \n",
      "53000586-TO                              Jeans              Jeans   \n",
      "53030601-81              Dresses and jumpsuits            Dresses   \n",
      "53050730-15              Dresses and jumpsuits            Dresses   \n",
      "53070773-70                             Shirts              Shirt   \n",
      "...                                        ...                ...   \n",
      "57066027-99              Dresses and jumpsuits            Dresses   \n",
      "57076028-92                  Skirts and shorts             Shorts   \n",
      "57068275-05                  Swim and intimate           Intimate   \n",
      "57067125-78              Dresses and jumpsuits            Dresses   \n",
      "57039120-PL                               Tops               Tops   \n",
      "\n",
      "                 des_product_type                          des_filename  \n",
      "cod_modelo_color                                                         \n",
      "41085800-02              Trousers  datathon/images/2019_41085800_02.jpg  \n",
      "53000586-TO                 Jeans  datathon/images/2019_53000586_TO.jpg  \n",
      "53030601-81                 Dress  datathon/images/2019_53030601_81.jpg  \n",
      "53050730-15                 Dress  datathon/images/2019_53050730_15.jpg  \n",
      "53070773-70                 Shirt  datathon/images/2019_53070773_70.jpg  \n",
      "...                           ...                                   ...  \n",
      "57066027-99                 Dress  datathon/images/2023_57066027_99.jpg  \n",
      "57076028-92                Shorts  datathon/images/2023_57076028_92.jpg  \n",
      "57068275-05                 Socks  datathon/images/2023_57068275_05.jpg  \n",
      "57067125-78                 Dress  datathon/images/2023_57067125_78.jpg  \n",
      "57039120-PL                   Top  datathon/images/2023_57039120_PL.jpg  \n",
      "\n",
      "[8532 rows x 12 columns]>\n"
     ]
    }
   ],
   "source": [
    "ndata2 = ndata1[(ndata1['des_sex'] == 'Female') & (ndata1['des_age'] == 'Adult') & (ndata1['des_line'] == 'SHE')]\n",
    "print(ndata2.shape)\n",
    "print(ndata2.head)"
   ]
  },
  {
   "cell_type": "code",
   "execution_count": null,
   "metadata": {
    "colab": {
     "base_uri": "https://localhost:8080/"
    },
    "id": "GcPGJHWSv-k2",
    "outputId": "75889b11-69e9-4a16-f5b1-6611275bb413"
   },
   "outputs": [
    {
     "name": "stdout",
     "output_type": "stream",
     "text": [
      "(8532, 9)\n",
      "<bound method NDFrame.head of                  cod_color_code des_color_specification_esp  \\\n",
      "cod_modelo_color                                              \n",
      "41085800-02                  02                    OFFWHITE   \n",
      "53000586-TO                  TO               TEJANO OSCURO   \n",
      "53030601-81                  81                 ROSA PASTEL   \n",
      "53050730-15                  15                     MOSTAZA   \n",
      "53070773-70                  70                        ROJO   \n",
      "...                         ...                         ...   \n",
      "57066027-99                  99                       NEGRO   \n",
      "57076028-92                  92                        GRIS   \n",
      "57068275-05                  05                       CRUDO   \n",
      "57067125-78                  78                     BURDEOS   \n",
      "57039120-PL                  PL                       PLATA   \n",
      "\n",
      "                 des_agrup_color_eng      des_fabric  \\\n",
      "cod_modelo_color                                       \n",
      "41085800-02                    WHITE         P-PLANA   \n",
      "53000586-TO                     BLUE         J-JEANS   \n",
      "53030601-81                     PINK         P-PLANA   \n",
      "53050730-15                   YELLOW         P-PLANA   \n",
      "53070773-70                      RED         P-PLANA   \n",
      "...                              ...             ...   \n",
      "57066027-99                     GREY         P-PLANA   \n",
      "57076028-92                     GREY         P-PLANA   \n",
      "57068275-05                    WHITE  C-COMPLEMENTOS   \n",
      "57067125-78                      RED      K-CIRCULAR   \n",
      "57039120-PL                     GREY        T-TRICOT   \n",
      "\n",
      "                                 des_product_category  \\\n",
      "cod_modelo_color                                        \n",
      "41085800-02                                   Bottoms   \n",
      "53000586-TO                                   Bottoms   \n",
      "53030601-81       Dresses, jumpsuits and Complete set   \n",
      "53050730-15       Dresses, jumpsuits and Complete set   \n",
      "53070773-70                                      Tops   \n",
      "...                                               ...   \n",
      "57066027-99       Dresses, jumpsuits and Complete set   \n",
      "57076028-92                                   Bottoms   \n",
      "57068275-05             Accesories, Swim and Intimate   \n",
      "57067125-78       Dresses, jumpsuits and Complete set   \n",
      "57039120-PL                                      Tops   \n",
      "\n",
      "                 des_product_aggregated_family des_product_family  \\\n",
      "cod_modelo_color                                                    \n",
      "41085800-02                Trousers & leggings           Trousers   \n",
      "53000586-TO                              Jeans              Jeans   \n",
      "53030601-81              Dresses and jumpsuits            Dresses   \n",
      "53050730-15              Dresses and jumpsuits            Dresses   \n",
      "53070773-70                             Shirts              Shirt   \n",
      "...                                        ...                ...   \n",
      "57066027-99              Dresses and jumpsuits            Dresses   \n",
      "57076028-92                  Skirts and shorts             Shorts   \n",
      "57068275-05                  Swim and intimate           Intimate   \n",
      "57067125-78              Dresses and jumpsuits            Dresses   \n",
      "57039120-PL                               Tops               Tops   \n",
      "\n",
      "                 des_product_type                          des_filename  \n",
      "cod_modelo_color                                                         \n",
      "41085800-02              Trousers  datathon/images/2019_41085800_02.jpg  \n",
      "53000586-TO                 Jeans  datathon/images/2019_53000586_TO.jpg  \n",
      "53030601-81                 Dress  datathon/images/2019_53030601_81.jpg  \n",
      "53050730-15                 Dress  datathon/images/2019_53050730_15.jpg  \n",
      "53070773-70                 Shirt  datathon/images/2019_53070773_70.jpg  \n",
      "...                           ...                                   ...  \n",
      "57066027-99                 Dress  datathon/images/2023_57066027_99.jpg  \n",
      "57076028-92                Shorts  datathon/images/2023_57076028_92.jpg  \n",
      "57068275-05                 Socks  datathon/images/2023_57068275_05.jpg  \n",
      "57067125-78                 Dress  datathon/images/2023_57067125_78.jpg  \n",
      "57039120-PL                   Top  datathon/images/2023_57039120_PL.jpg  \n",
      "\n",
      "[8532 rows x 9 columns]>\n"
     ]
    }
   ],
   "source": [
    "ndata3 = ndata2.drop(['des_sex', 'des_age', 'des_line'], axis=1)\n",
    "print(ndata3.shape)\n",
    "print(ndata3.head)"
   ]
  },
  {
   "cell_type": "code",
   "execution_count": null,
   "metadata": {
    "colab": {
     "base_uri": "https://localhost:8080/"
    },
    "id": "ldtxtep0xc_4",
    "outputId": "af68c26e-ca12-4650-b531-41146a41ad5b"
   },
   "outputs": [
    {
     "name": "stdout",
     "output_type": "stream",
     "text": [
      "Dresses                     1106\n",
      "Shirt                        634\n",
      "Sweater                      607\n",
      "T-shirt                      598\n",
      "Trousers                     572\n",
      "Jewellery                    570\n",
      "Bags                         560\n",
      "Tops                         503\n",
      "Skirts                       452\n",
      "Footwear                     444\n",
      "Jeans                        286\n",
      "Hats, scarves and gloves     253\n",
      "Jackets                      193\n",
      "Jumpsuit                     170\n",
      "Wallets & cases              168\n",
      "Coats                        164\n",
      "Belts and Ties               156\n",
      "Cardigans                    156\n",
      "Shorts                       144\n",
      "Blazers                      141\n",
      "Intimate                     129\n",
      "Glasses                      124\n",
      "Puffer coats                  64\n",
      "Sweatshirts                   54\n",
      "Swimwear                      44\n",
      "Vest                          42\n",
      "Trenchcoats                   42\n",
      "Leggings and joggers          39\n",
      "Fragances                     30\n",
      "Bodysuits                     26\n",
      "Gadgets                       20\n",
      "Leather jackets               15\n",
      "Outer Vest                    11\n",
      "Poloshirts                     8\n",
      "Parkas                         7\n",
      "Name: des_product_family, dtype: int64\n"
     ]
    }
   ],
   "source": [
    "fam_counts = ndata3['des_product_family'].value_counts()\n",
    "print(fam_counts)"
   ]
  },
  {
   "cell_type": "code",
   "execution_count": null,
   "metadata": {
    "id": "I8eoh0E9yiQz"
   },
   "outputs": [],
   "source": [
    "MIN_FAM_FREQ = 45\n",
    "ndata4 = ndata3[ndata3['des_product_family'].isin(fam_counts[fam_counts.gt(MIN_FAM_FREQ)].index)]"
   ]
  },
  {
   "cell_type": "code",
   "execution_count": null,
   "metadata": {
    "colab": {
     "base_uri": "https://localhost:8080/"
    },
    "id": "haa7GxGhzE9e",
    "outputId": "4fdf1e3f-cd02-444a-8d32-1b82f1ef5f07"
   },
   "outputs": [
    {
     "name": "stdout",
     "output_type": "stream",
     "text": [
      "(24,)\n",
      "(8532, 9)\n",
      "(8248, 9)\n"
     ]
    }
   ],
   "source": [
    "print(ndata4['des_product_family'].value_counts().shape)\n",
    "print(ndata3.shape)\n",
    "print(ndata4.shape)"
   ]
  },
  {
   "cell_type": "code",
   "execution_count": null,
   "metadata": {
    "id": "frxGy_sgzpla"
   },
   "outputs": [],
   "source": [
    "todrop = ['des_color_specification_esp','des_product_aggregated_family','des_product_type','des_filename']\n",
    "ndata5 = ndata4.drop(todrop, axis=1)"
   ]
  },
  {
   "cell_type": "code",
   "execution_count": null,
   "metadata": {
    "id": "0k_3cwr20-UY"
   },
   "outputs": [],
   "source": [
    "defdata = ndata5"
   ]
  },
  {
   "cell_type": "code",
   "execution_count": null,
   "metadata": {
    "colab": {
     "base_uri": "https://localhost:8080/"
    },
    "id": "yxTEkCWY2P-w",
    "outputId": "61929f3e-4e10-40e3-b932-b37b4cf80c79"
   },
   "outputs": [
    {
     "name": "stdout",
     "output_type": "stream",
     "text": [
      "(8248, 5)\n",
      "<bound method NDFrame.head of                  cod_color_code des_agrup_color_eng      des_fabric  \\\n",
      "cod_modelo_color                                                      \n",
      "41085800-02                  02               WHITE         P-PLANA   \n",
      "53000586-TO                  TO                BLUE         J-JEANS   \n",
      "53030601-81                  81                PINK         P-PLANA   \n",
      "53050730-15                  15              YELLOW         P-PLANA   \n",
      "53070773-70                  70                 RED         P-PLANA   \n",
      "...                         ...                 ...             ...   \n",
      "57066027-99                  99                GREY         P-PLANA   \n",
      "57076028-92                  92                GREY         P-PLANA   \n",
      "57068275-05                  05               WHITE  C-COMPLEMENTOS   \n",
      "57067125-78                  78                 RED      K-CIRCULAR   \n",
      "57039120-PL                  PL                GREY        T-TRICOT   \n",
      "\n",
      "                                 des_product_category des_product_family  \n",
      "cod_modelo_color                                                          \n",
      "41085800-02                                   Bottoms           Trousers  \n",
      "53000586-TO                                   Bottoms              Jeans  \n",
      "53030601-81       Dresses, jumpsuits and Complete set            Dresses  \n",
      "53050730-15       Dresses, jumpsuits and Complete set            Dresses  \n",
      "53070773-70                                      Tops              Shirt  \n",
      "...                                               ...                ...  \n",
      "57066027-99       Dresses, jumpsuits and Complete set            Dresses  \n",
      "57076028-92                                   Bottoms             Shorts  \n",
      "57068275-05             Accesories, Swim and Intimate           Intimate  \n",
      "57067125-78       Dresses, jumpsuits and Complete set            Dresses  \n",
      "57039120-PL                                      Tops               Tops  \n",
      "\n",
      "[8248 rows x 5 columns]>\n"
     ]
    }
   ],
   "source": [
    "print(defdata.shape)\n",
    "print(defdata.head)"
   ]
  },
  {
   "cell_type": "code",
   "execution_count": null,
   "metadata": {
    "colab": {
     "base_uri": "https://localhost:8080/"
    },
    "id": "HOMz-q122zmK",
    "outputId": "c2399d74-378d-4b93-9d94-e51ab15e6fe6"
   },
   "outputs": [
    {
     "name": "stdout",
     "output_type": "stream",
     "text": [
      "cod_color_code (48,)\n",
      "des_agrup_color_eng (10,)\n",
      "des_fabric (7,)\n",
      "des_product_category (6,)\n",
      "des_product_family (24,)\n"
     ]
    }
   ],
   "source": [
    "for column in defdata:\n",
    "  print(column, defdata[column].value_counts().shape)"
   ]
  },
  {
   "cell_type": "code",
   "execution_count": null,
   "metadata": {
    "id": "bPASMvnmbqoF"
   },
   "outputs": [],
   "source": [
    "defdata.to_csv('clean_product_data.csv')"
   ]
  }
 ],
 "metadata": {
  "colab": {
   "provenance": []
  },
  "kernelspec": {
   "display_name": "Python 3",
   "language": "python",
   "name": "python3"
  },
  "language_info": {
   "codemirror_mode": {
    "name": "ipython",
    "version": 3
   },
   "file_extension": ".py",
   "mimetype": "text/x-python",
   "name": "python",
   "nbconvert_exporter": "python",
   "pygments_lexer": "ipython3",
   "version": "3.7.3"
  }
 },
 "nbformat": 4,
 "nbformat_minor": 1
}

{
  "nbformat": 4,
  "nbformat_minor": 0,
  "metadata": {
    "colab": {
      "provenance": []
    },
    "kernelspec": {
      "name": "python3",
      "display_name": "Python 3"
    },
    "language_info": {
      "name": "python"
    }
  },
  "cells": [
    {
      "cell_type": "code",
      "execution_count": 78,
      "metadata": {
        "id": "FiTRferBr6TC"
      },
      "outputs": [],
      "source": [
        "import pandas as pd\n",
        "import numpy as np\n",
        "import matplotlib.pyplot as plt\n",
        "import seaborn as sns"
      ]
    },
    {
      "cell_type": "code",
      "source": [
        "cleandata = pd.read_csv(\"/content/clean_product_data_with_filenames (1).csv\")\n",
        "outfits = pd.read_csv(\"/content/outfit_data.csv\")"
      ],
      "metadata": {
        "id": "RZcjCvtwsBXI"
      },
      "execution_count": 3,
      "outputs": []
    },
    {
      "cell_type": "code",
      "source": [
        "outfits.describe()"
      ],
      "metadata": {
        "colab": {
          "base_uri": "https://localhost:8080/",
          "height": 300
        },
        "id": "faAXxzS4wOxO",
        "outputId": "2d1cc7a4-40e5-48f9-baa8-29337894a495"
      },
      "execution_count": 27,
      "outputs": [
        {
          "output_type": "execute_result",
          "data": {
            "text/plain": [
              "         cod_outfit\n",
              "count  43582.000000\n",
              "mean    3881.569111\n",
              "std     2276.633552\n",
              "min        1.000000\n",
              "25%     1903.250000\n",
              "50%     3879.000000\n",
              "75%     5856.000000\n",
              "max     7842.000000"
            ],
            "text/html": [
              "\n",
              "  <div id=\"df-22a758e8-8074-4d11-a47a-c6c6a19b93f4\" class=\"colab-df-container\">\n",
              "    <div>\n",
              "<style scoped>\n",
              "    .dataframe tbody tr th:only-of-type {\n",
              "        vertical-align: middle;\n",
              "    }\n",
              "\n",
              "    .dataframe tbody tr th {\n",
              "        vertical-align: top;\n",
              "    }\n",
              "\n",
              "    .dataframe thead th {\n",
              "        text-align: right;\n",
              "    }\n",
              "</style>\n",
              "<table border=\"1\" class=\"dataframe\">\n",
              "  <thead>\n",
              "    <tr style=\"text-align: right;\">\n",
              "      <th></th>\n",
              "      <th>cod_outfit</th>\n",
              "    </tr>\n",
              "  </thead>\n",
              "  <tbody>\n",
              "    <tr>\n",
              "      <th>count</th>\n",
              "      <td>43582.000000</td>\n",
              "    </tr>\n",
              "    <tr>\n",
              "      <th>mean</th>\n",
              "      <td>3881.569111</td>\n",
              "    </tr>\n",
              "    <tr>\n",
              "      <th>std</th>\n",
              "      <td>2276.633552</td>\n",
              "    </tr>\n",
              "    <tr>\n",
              "      <th>min</th>\n",
              "      <td>1.000000</td>\n",
              "    </tr>\n",
              "    <tr>\n",
              "      <th>25%</th>\n",
              "      <td>1903.250000</td>\n",
              "    </tr>\n",
              "    <tr>\n",
              "      <th>50%</th>\n",
              "      <td>3879.000000</td>\n",
              "    </tr>\n",
              "    <tr>\n",
              "      <th>75%</th>\n",
              "      <td>5856.000000</td>\n",
              "    </tr>\n",
              "    <tr>\n",
              "      <th>max</th>\n",
              "      <td>7842.000000</td>\n",
              "    </tr>\n",
              "  </tbody>\n",
              "</table>\n",
              "</div>\n",
              "    <div class=\"colab-df-buttons\">\n",
              "\n",
              "  <div class=\"colab-df-container\">\n",
              "    <button class=\"colab-df-convert\" onclick=\"convertToInteractive('df-22a758e8-8074-4d11-a47a-c6c6a19b93f4')\"\n",
              "            title=\"Convert this dataframe to an interactive table.\"\n",
              "            style=\"display:none;\">\n",
              "\n",
              "  <svg xmlns=\"http://www.w3.org/2000/svg\" height=\"24px\" viewBox=\"0 -960 960 960\">\n",
              "    <path d=\"M120-120v-720h720v720H120Zm60-500h600v-160H180v160Zm220 220h160v-160H400v160Zm0 220h160v-160H400v160ZM180-400h160v-160H180v160Zm440 0h160v-160H620v160ZM180-180h160v-160H180v160Zm440 0h160v-160H620v160Z\"/>\n",
              "  </svg>\n",
              "    </button>\n",
              "\n",
              "  <style>\n",
              "    .colab-df-container {\n",
              "      display:flex;\n",
              "      gap: 12px;\n",
              "    }\n",
              "\n",
              "    .colab-df-convert {\n",
              "      background-color: #E8F0FE;\n",
              "      border: none;\n",
              "      border-radius: 50%;\n",
              "      cursor: pointer;\n",
              "      display: none;\n",
              "      fill: #1967D2;\n",
              "      height: 32px;\n",
              "      padding: 0 0 0 0;\n",
              "      width: 32px;\n",
              "    }\n",
              "\n",
              "    .colab-df-convert:hover {\n",
              "      background-color: #E2EBFA;\n",
              "      box-shadow: 0px 1px 2px rgba(60, 64, 67, 0.3), 0px 1px 3px 1px rgba(60, 64, 67, 0.15);\n",
              "      fill: #174EA6;\n",
              "    }\n",
              "\n",
              "    .colab-df-buttons div {\n",
              "      margin-bottom: 4px;\n",
              "    }\n",
              "\n",
              "    [theme=dark] .colab-df-convert {\n",
              "      background-color: #3B4455;\n",
              "      fill: #D2E3FC;\n",
              "    }\n",
              "\n",
              "    [theme=dark] .colab-df-convert:hover {\n",
              "      background-color: #434B5C;\n",
              "      box-shadow: 0px 1px 3px 1px rgba(0, 0, 0, 0.15);\n",
              "      filter: drop-shadow(0px 1px 2px rgba(0, 0, 0, 0.3));\n",
              "      fill: #FFFFFF;\n",
              "    }\n",
              "  </style>\n",
              "\n",
              "    <script>\n",
              "      const buttonEl =\n",
              "        document.querySelector('#df-22a758e8-8074-4d11-a47a-c6c6a19b93f4 button.colab-df-convert');\n",
              "      buttonEl.style.display =\n",
              "        google.colab.kernel.accessAllowed ? 'block' : 'none';\n",
              "\n",
              "      async function convertToInteractive(key) {\n",
              "        const element = document.querySelector('#df-22a758e8-8074-4d11-a47a-c6c6a19b93f4');\n",
              "        const dataTable =\n",
              "          await google.colab.kernel.invokeFunction('convertToInteractive',\n",
              "                                                    [key], {});\n",
              "        if (!dataTable) return;\n",
              "\n",
              "        const docLinkHtml = 'Like what you see? Visit the ' +\n",
              "          '<a target=\"_blank\" href=https://colab.research.google.com/notebooks/data_table.ipynb>data table notebook</a>'\n",
              "          + ' to learn more about interactive tables.';\n",
              "        element.innerHTML = '';\n",
              "        dataTable['output_type'] = 'display_data';\n",
              "        await google.colab.output.renderOutput(dataTable, element);\n",
              "        const docLink = document.createElement('div');\n",
              "        docLink.innerHTML = docLinkHtml;\n",
              "        element.appendChild(docLink);\n",
              "      }\n",
              "    </script>\n",
              "  </div>\n",
              "\n",
              "\n",
              "<div id=\"df-96ebb37f-06ca-4665-90f8-5c403c19b1af\">\n",
              "  <button class=\"colab-df-quickchart\" onclick=\"quickchart('df-96ebb37f-06ca-4665-90f8-5c403c19b1af')\"\n",
              "            title=\"Suggest charts\"\n",
              "            style=\"display:none;\">\n",
              "\n",
              "<svg xmlns=\"http://www.w3.org/2000/svg\" height=\"24px\"viewBox=\"0 0 24 24\"\n",
              "     width=\"24px\">\n",
              "    <g>\n",
              "        <path d=\"M19 3H5c-1.1 0-2 .9-2 2v14c0 1.1.9 2 2 2h14c1.1 0 2-.9 2-2V5c0-1.1-.9-2-2-2zM9 17H7v-7h2v7zm4 0h-2V7h2v10zm4 0h-2v-4h2v4z\"/>\n",
              "    </g>\n",
              "</svg>\n",
              "  </button>\n",
              "\n",
              "<style>\n",
              "  .colab-df-quickchart {\n",
              "      --bg-color: #E8F0FE;\n",
              "      --fill-color: #1967D2;\n",
              "      --hover-bg-color: #E2EBFA;\n",
              "      --hover-fill-color: #174EA6;\n",
              "      --disabled-fill-color: #AAA;\n",
              "      --disabled-bg-color: #DDD;\n",
              "  }\n",
              "\n",
              "  [theme=dark] .colab-df-quickchart {\n",
              "      --bg-color: #3B4455;\n",
              "      --fill-color: #D2E3FC;\n",
              "      --hover-bg-color: #434B5C;\n",
              "      --hover-fill-color: #FFFFFF;\n",
              "      --disabled-bg-color: #3B4455;\n",
              "      --disabled-fill-color: #666;\n",
              "  }\n",
              "\n",
              "  .colab-df-quickchart {\n",
              "    background-color: var(--bg-color);\n",
              "    border: none;\n",
              "    border-radius: 50%;\n",
              "    cursor: pointer;\n",
              "    display: none;\n",
              "    fill: var(--fill-color);\n",
              "    height: 32px;\n",
              "    padding: 0;\n",
              "    width: 32px;\n",
              "  }\n",
              "\n",
              "  .colab-df-quickchart:hover {\n",
              "    background-color: var(--hover-bg-color);\n",
              "    box-shadow: 0 1px 2px rgba(60, 64, 67, 0.3), 0 1px 3px 1px rgba(60, 64, 67, 0.15);\n",
              "    fill: var(--button-hover-fill-color);\n",
              "  }\n",
              "\n",
              "  .colab-df-quickchart-complete:disabled,\n",
              "  .colab-df-quickchart-complete:disabled:hover {\n",
              "    background-color: var(--disabled-bg-color);\n",
              "    fill: var(--disabled-fill-color);\n",
              "    box-shadow: none;\n",
              "  }\n",
              "\n",
              "  .colab-df-spinner {\n",
              "    border: 2px solid var(--fill-color);\n",
              "    border-color: transparent;\n",
              "    border-bottom-color: var(--fill-color);\n",
              "    animation:\n",
              "      spin 1s steps(1) infinite;\n",
              "  }\n",
              "\n",
              "  @keyframes spin {\n",
              "    0% {\n",
              "      border-color: transparent;\n",
              "      border-bottom-color: var(--fill-color);\n",
              "      border-left-color: var(--fill-color);\n",
              "    }\n",
              "    20% {\n",
              "      border-color: transparent;\n",
              "      border-left-color: var(--fill-color);\n",
              "      border-top-color: var(--fill-color);\n",
              "    }\n",
              "    30% {\n",
              "      border-color: transparent;\n",
              "      border-left-color: var(--fill-color);\n",
              "      border-top-color: var(--fill-color);\n",
              "      border-right-color: var(--fill-color);\n",
              "    }\n",
              "    40% {\n",
              "      border-color: transparent;\n",
              "      border-right-color: var(--fill-color);\n",
              "      border-top-color: var(--fill-color);\n",
              "    }\n",
              "    60% {\n",
              "      border-color: transparent;\n",
              "      border-right-color: var(--fill-color);\n",
              "    }\n",
              "    80% {\n",
              "      border-color: transparent;\n",
              "      border-right-color: var(--fill-color);\n",
              "      border-bottom-color: var(--fill-color);\n",
              "    }\n",
              "    90% {\n",
              "      border-color: transparent;\n",
              "      border-bottom-color: var(--fill-color);\n",
              "    }\n",
              "  }\n",
              "</style>\n",
              "\n",
              "  <script>\n",
              "    async function quickchart(key) {\n",
              "      const quickchartButtonEl =\n",
              "        document.querySelector('#' + key + ' button');\n",
              "      quickchartButtonEl.disabled = true;  // To prevent multiple clicks.\n",
              "      quickchartButtonEl.classList.add('colab-df-spinner');\n",
              "      try {\n",
              "        const charts = await google.colab.kernel.invokeFunction(\n",
              "            'suggestCharts', [key], {});\n",
              "      } catch (error) {\n",
              "        console.error('Error during call to suggestCharts:', error);\n",
              "      }\n",
              "      quickchartButtonEl.classList.remove('colab-df-spinner');\n",
              "      quickchartButtonEl.classList.add('colab-df-quickchart-complete');\n",
              "    }\n",
              "    (() => {\n",
              "      let quickchartButtonEl =\n",
              "        document.querySelector('#df-96ebb37f-06ca-4665-90f8-5c403c19b1af button');\n",
              "      quickchartButtonEl.style.display =\n",
              "        google.colab.kernel.accessAllowed ? 'block' : 'none';\n",
              "    })();\n",
              "  </script>\n",
              "</div>\n",
              "    </div>\n",
              "  </div>\n"
            ]
          },
          "metadata": {},
          "execution_count": 27
        }
      ]
    },
    {
      "cell_type": "code",
      "source": [
        "outfits.head()"
      ],
      "metadata": {
        "id": "orrT7pwQsgQu"
      },
      "execution_count": null,
      "outputs": []
    },
    {
      "cell_type": "code",
      "source": [
        "outfits.describe()"
      ],
      "metadata": {
        "id": "HLOFhjMWwiul"
      },
      "execution_count": null,
      "outputs": []
    },
    {
      "cell_type": "code",
      "source": [
        "def print_dict(d):\n",
        "    for key in d:\n",
        "        print(key, d[key])"
      ],
      "metadata": {
        "id": "rM5MKf2sx9_U"
      },
      "execution_count": 20,
      "outputs": []
    },
    {
      "cell_type": "code",
      "source": [
        "id_to_family_name = {key : value for key, value in enumerate(cleandata[\"des_product_family\"].unique(), 1)}\n",
        "family_name_to_id = {value : key for key, value in enumerate(cleandata[\"des_product_family\"].unique(), 1)}"
      ],
      "metadata": {
        "id": "tHRvJezKxT30"
      },
      "execution_count": 23,
      "outputs": []
    },
    {
      "cell_type": "code",
      "source": [
        "def process_outfit(id):\n",
        "    items = outfits[outfits[\"cod_outfit\"] == id].cod_modelo_color.unique()\n",
        "    sz = items.size\n",
        "\n",
        "    for i in np.arange(0, sz):\n",
        "        for j in np.arange(i + 1, sz):\n",
        "            cat_a = cleandata[cleandata[\"cod_modelo_color\"] == items[i]].des_product_family.unique()\n",
        "            cat_b = cleandata[cleandata[\"cod_modelo_color\"] == items[j]].des_product_family.unique()\n",
        "\n",
        "            if cat_a.size == 0 or cat_b.size == 0:\n",
        "                print(\"SKIP\", id)\n",
        "                continue\n",
        "\n",
        "            if cat_a.size > 1 or cat_b.size > 1:\n",
        "                print(\"SHOULDN'T HAPPEN\")\n",
        "                continue\n",
        "\n",
        "            cat_a = cat_a[0]\n",
        "            cat_b = cat_b[0]\n",
        "\n",
        "            id_a = family_name_to_id[cat_a]\n",
        "            id_b = family_name_to_id[cat_b]\n",
        "\n",
        "            arr[id_a][id_b] += 1\n",
        "            arr[id_b][id_a] += 1"
      ],
      "metadata": {
        "id": "AHbJbD0dslzp"
      },
      "execution_count": 66,
      "outputs": []
    },
    {
      "cell_type": "code",
      "source": [
        "arr = [[0 for i in range(25)] for j in range(25)]\n",
        "\n",
        "for id in range(1, 8000):\n",
        "    process_outfit(id)"
      ],
      "metadata": {
        "id": "VBqc7a2twetI"
      },
      "execution_count": null,
      "outputs": []
    },
    {
      "cell_type": "code",
      "source": [
        "for i in range(1, 25):\n",
        "    print(id_to_family_name[i], end = \" \")\n",
        "    for j in range(1, 25):\n",
        "        print(arr[i][j], end = \" \")\n",
        "    print()"
      ],
      "metadata": {
        "colab": {
          "base_uri": "https://localhost:8080/"
        },
        "id": "PoRNiKvZ6SdI",
        "outputId": "c390000f-7bdd-4788-c4bd-1adddfd0e8c6"
      },
      "execution_count": 110,
      "outputs": [
        {
          "output_type": "stream",
          "name": "stdout",
          "text": [
            "Trousers 52 34 23 462 411 34 1824 1164 112 10 10 378 130 1 109 79 1564 87 257 256 70 21 34 37 \n",
            "Jeans 34 36 7 314 329 26 1337 896 72 20 7 287 216 2 190 50 1233 44 64 296 50 30 16 23 \n",
            "Dresses 23 7 12 19 28 4 2028 1093 241 12 1 3 51 1 47 39 1304 58 12 10 13 2 38 7 \n",
            "Shirt 462 314 19 34 113 235 1358 815 85 12 101 68 135 4 57 48 1134 45 106 31 13 5 56 11 \n",
            "Sweater 411 329 28 113 64 319 1169 869 65 2 78 53 132 8 108 117 1202 55 87 86 39 42 60 5 \n",
            "Skirts 34 26 4 235 319 48 1207 806 112 5 17 337 117 0 114 47 1134 38 80 194 120 6 90 20 \n",
            "Jewellery 1824 1337 2028 1358 1169 1207 8234 5555 544 124 398 1316 564 333 428 232 7459 252 420 882 228 64 161 81 \n",
            "Bags 1164 896 1093 815 869 806 5555 254 560 343 253 882 383 164 353 154 4659 193 287 583 203 36 177 67 \n",
            "Glasses 112 72 241 85 65 112 544 560 6 7 33 100 31 32 37 8 686 46 37 72 41 0 29 3 \n",
            "Wallets & cases 10 20 12 12 2 5 124 343 7 1914 3 19 6 0 2 0 66 3 5 5 0 0 44 2 \n",
            "Shorts 10 7 1 101 78 17 398 253 33 3 0 133 31 1 33 16 334 16 27 45 15 1 41 4 \n",
            "Tops 378 287 3 68 53 337 1316 882 100 19 133 58 156 4 157 24 1177 53 111 33 103 2 36 3 \n",
            "Belts and Ties 130 216 51 135 132 117 564 383 31 6 31 156 32 8 50 18 584 16 22 89 26 3 34 9 \n",
            "Jumpsuit 1 2 1 4 8 0 333 164 32 0 1 4 8 0 4 2 191 8 0 7 4 1 0 0 \n",
            "Jackets 109 190 47 57 108 114 428 353 37 2 33 157 50 4 16 2 513 29 4 87 5 2 37 4 \n",
            "Coats 79 50 39 48 117 47 232 154 8 0 16 24 18 2 2 4 249 33 9 39 6 0 21 13 \n",
            "Footwear 1564 1233 1304 1134 1202 1134 7459 4659 686 66 334 1177 584 191 513 249 690 271 466 827 272 61 241 84 \n",
            "Hats, scarves and gloves 87 44 58 45 55 38 252 193 46 3 16 53 16 8 29 33 271 82 22 18 6 2 12 9 \n",
            "Blazers 257 64 12 106 87 80 420 287 37 5 27 111 22 0 4 9 466 22 8 79 8 0 43 7 \n",
            "T-shirt 256 296 10 31 86 194 882 583 72 5 45 33 89 7 87 39 827 18 79 26 34 9 29 9 \n",
            "Cardigans 70 50 13 13 39 120 228 203 41 0 15 103 26 4 5 6 272 6 8 34 4 1 19 0 \n",
            "Puffer coats 21 30 2 5 42 6 64 36 0 0 1 2 3 1 2 0 61 2 0 9 1 0 2 0 \n",
            "Intimate 34 16 38 56 60 90 161 177 29 44 41 36 34 0 37 21 241 12 43 29 19 2 98 12 \n",
            "Sweatshirts 37 23 7 11 5 20 81 67 3 2 4 3 9 0 4 13 84 9 7 9 0 0 12 0 \n"
          ]
        }
      ]
    },
    {
      "cell_type": "code",
      "source": [
        "nparr = np.array(arr)\n",
        "nparr[1:25, 1:25].shape"
      ],
      "metadata": {
        "colab": {
          "base_uri": "https://localhost:8080/"
        },
        "id": "vzTwIo989RZb",
        "outputId": "37d4d743-f0e9-42e4-ee11-444243052824"
      },
      "execution_count": 92,
      "outputs": [
        {
          "output_type": "execute_result",
          "data": {
            "text/plain": [
              "(24, 24)"
            ]
          },
          "metadata": {},
          "execution_count": 92
        }
      ]
    },
    {
      "cell_type": "code",
      "source": [
        "labels = np.array([id_to_family_name[id] for id in range(1, 25)])"
      ],
      "metadata": {
        "id": "zpxN_lub9Ajr"
      },
      "execution_count": 100,
      "outputs": []
    },
    {
      "cell_type": "code",
      "source": [
        "sns.heatmap(nparr[1:25, 1:25], xticklabels = labels, yticklabels = labels)\n",
        "plt.savefig(\"Clothing_Graph.svg\", format = \"svg\")"
      ],
      "metadata": {
        "colab": {
          "base_uri": "https://localhost:8080/",
          "height": 589
        },
        "id": "2eon--rA8M1S",
        "outputId": "cefb1a2b-df04-4379-d1e0-db172f4cc77c"
      },
      "execution_count": 108,
      "outputs": [
        {
          "output_type": "display_data",
          "data": {
            "text/plain": [
              "<Figure size 640x480 with 2 Axes>"
            ],
            "image/png": "[encoded data removed]"
          },
          "metadata": {}
        }
      ]
    },
    {
      "cell_type": "code",
      "source": [
        "items = outfits[outfits[\"cod_outfit\"] == 1304].cod_modelo_color.unique()\n",
        "sz = items.size\n",
        "\n",
        "print(sz)\n",
        "\n",
        "for i in np.arange(0, sz):\n",
        "    for j in np.arange(i + 1, sz):\n",
        "        cat_a = cleandata[cleandata[\"cod_modelo_color\"] == items[i]].des_product_family.unique()[0]\n",
        "        cat_b = cleandata[cleandata[\"cod_modelo_color\"] == items[j]].des_product_family.unique()[0]\n",
        "\n",
        "        print(cat_a, cat_b)"
      ],
      "metadata": {
        "colab": {
          "base_uri": "https://localhost:8080/"
        },
        "id": "GYw2nSasxHtB",
        "outputId": "ce8a1437-2d12-4a77-8623-205e655ad13a"
      },
      "execution_count": 84,
      "outputs": [
        {
          "output_type": "stream",
          "name": "stdout",
          "text": [
            "5\n",
            "Footwear Bags\n",
            "Footwear Jewellery\n",
            "Footwear Dresses\n",
            "Footwear Jewellery\n",
            "Bags Jewellery\n",
            "Bags Dresses\n",
            "Bags Jewellery\n",
            "Jewellery Dresses\n",
            "Jewellery Jewellery\n",
            "Dresses Jewellery\n"
          ]
        }
      ]
    },
    {
      "cell_type": "code",
      "source": [
        "cleandata[cleandata[\"cod_modelo_color\"] == \"41085800-02\"].des_product_family.unique()[0]"
      ],
      "metadata": {
        "colab": {
          "base_uri": "https://localhost:8080/",
          "height": 35
        },
        "id": "TXnycCgn1LQv",
        "outputId": "2c7104c1-cea7-4657-fe1d-04550b1cdd6a"
      },
      "execution_count": 42,
      "outputs": [
        {
          "output_type": "execute_result",
          "data": {
            "text/plain": [
              "'Trousers'"
            ],
            "application/vnd.google.colaboratory.intrinsic+json": {
              "type": "string"
            }
          },
          "metadata": {},
          "execution_count": 42
        }
      ]
    }
  ]
}
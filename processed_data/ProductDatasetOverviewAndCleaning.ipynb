{
  "nbformat": 4,
  "nbformat_minor": 0,
  "metadata": {
    "colab": {
      "provenance": []
    },
    "kernelspec": {
      "name": "python3",
      "display_name": "Python 3"
    },
    "language_info": {
      "name": "python"
    }
  },
  "cells": [
    {
      "cell_type": "markdown",
      "source": [
        "First, we install pandas"
      ],
      "metadata": {
        "id": "9b_pZPDpmTdp"
      }
    },
    {
      "cell_type": "code",
      "execution_count": 50,
      "metadata": {
        "id": "XKo1ibZhTzsB",
        "colab": {
          "base_uri": "https://localhost:8080/"
        },
        "outputId": "77675d5b-e796-42d2-cc1c-b542335c3b43"
      },
      "outputs": [
        {
          "output_type": "stream",
          "name": "stdout",
          "text": [
            "Requirement already satisfied: pandas in /usr/local/lib/python3.10/dist-packages (1.5.3)\n",
            "Requirement already satisfied: python-dateutil>=2.8.1 in /usr/local/lib/python3.10/dist-packages (from pandas) (2.8.2)\n",
            "Requirement already satisfied: pytz>=2020.1 in /usr/local/lib/python3.10/dist-packages (from pandas) (2023.3.post1)\n",
            "Requirement already satisfied: numpy>=1.21.0 in /usr/local/lib/python3.10/dist-packages (from pandas) (1.23.5)\n",
            "Requirement already satisfied: six>=1.5 in /usr/local/lib/python3.10/dist-packages (from python-dateutil>=2.8.1->pandas) (1.16.0)\n"
          ]
        }
      ],
      "source": [
        "!pip install pandas"
      ]
    },
    {
      "cell_type": "markdown",
      "source": [
        "Then we import it."
      ],
      "metadata": {
        "id": "93C2kBH4mdNR"
      }
    },
    {
      "cell_type": "code",
      "source": [
        "import pandas as pd"
      ],
      "metadata": {
        "id": "oy2fElN2mcjp"
      },
      "execution_count": 51,
      "outputs": []
    },
    {
      "cell_type": "markdown",
      "source": [
        "We read all the data from the csv to a DataFrame in order to manipulate it properly."
      ],
      "metadata": {
        "id": "518tEI_omg0m"
      }
    },
    {
      "cell_type": "code",
      "source": [
        "url = 'product_data.csv'\n",
        "rawdata = pd.read_csv(url, index_col=0)"
      ],
      "metadata": {
        "id": "zyFUgNBrWoin"
      },
      "execution_count": 52,
      "outputs": []
    },
    {
      "cell_type": "markdown",
      "source": [
        "We visualize it's shape and head to see how is it."
      ],
      "metadata": {
        "id": "xR_fgc2dmmjX"
      }
    },
    {
      "cell_type": "code",
      "source": [
        "print(rawdata.shape)\n",
        "print(rawdata.head)"
      ],
      "metadata": {
        "colab": {
          "base_uri": "https://localhost:8080/"
        },
        "id": "_hwsF-uDYKqh",
        "outputId": "d416e6bb-eacf-4cda-b93d-58c2b5e942f7"
      },
      "execution_count": 53,
      "outputs": [
        {
          "output_type": "stream",
          "name": "stdout",
          "text": [
            "(9222, 12)\n",
            "<bound method NDFrame.head of                  cod_color_code des_color_specification_esp  \\\n",
            "cod_modelo_color                                              \n",
            "41085800-02                  02                    OFFWHITE   \n",
            "53000586-TO                  TO               TEJANO OSCURO   \n",
            "53030601-81                  81                 ROSA PASTEL   \n",
            "53050730-15                  15                     MOSTAZA   \n",
            "53070773-70                  70                        ROJO   \n",
            "...                         ...                         ...   \n",
            "57066027-99                  99                       NEGRO   \n",
            "57076028-92                  92                        GRIS   \n",
            "57068275-05                  05                       CRUDO   \n",
            "57067125-78                  78                     BURDEOS   \n",
            "57039120-PL                  PL                       PLATA   \n",
            "\n",
            "                 des_agrup_color_eng des_sex des_age des_line      des_fabric  \\\n",
            "cod_modelo_color                                                                \n",
            "41085800-02                    WHITE  Female   Adult      SHE         P-PLANA   \n",
            "53000586-TO                     BLUE  Female   Adult      SHE         J-JEANS   \n",
            "53030601-81                     PINK  Female   Adult      SHE         P-PLANA   \n",
            "53050730-15                   YELLOW  Female   Adult      SHE         P-PLANA   \n",
            "53070773-70                      RED  Female   Adult      SHE         P-PLANA   \n",
            "...                              ...     ...     ...      ...             ...   \n",
            "57066027-99                     GREY  Female   Adult      SHE         P-PLANA   \n",
            "57076028-92                     GREY  Female   Adult      SHE         P-PLANA   \n",
            "57068275-05                    WHITE  Female   Adult      SHE  C-COMPLEMENTOS   \n",
            "57067125-78                      RED  Female   Adult      SHE      K-CIRCULAR   \n",
            "57039120-PL                     GREY  Female   Adult      SHE        T-TRICOT   \n",
            "\n",
            "                                 des_product_category  \\\n",
            "cod_modelo_color                                        \n",
            "41085800-02                                   Bottoms   \n",
            "53000586-TO                                   Bottoms   \n",
            "53030601-81       Dresses, jumpsuits and Complete set   \n",
            "53050730-15       Dresses, jumpsuits and Complete set   \n",
            "53070773-70                                      Tops   \n",
            "...                                               ...   \n",
            "57066027-99       Dresses, jumpsuits and Complete set   \n",
            "57076028-92                                   Bottoms   \n",
            "57068275-05             Accesories, Swim and Intimate   \n",
            "57067125-78       Dresses, jumpsuits and Complete set   \n",
            "57039120-PL                                      Tops   \n",
            "\n",
            "                 des_product_aggregated_family des_product_family  \\\n",
            "cod_modelo_color                                                    \n",
            "41085800-02                Trousers & leggings           Trousers   \n",
            "53000586-TO                              Jeans              Jeans   \n",
            "53030601-81              Dresses and jumpsuits            Dresses   \n",
            "53050730-15              Dresses and jumpsuits            Dresses   \n",
            "53070773-70                             Shirts              Shirt   \n",
            "...                                        ...                ...   \n",
            "57066027-99              Dresses and jumpsuits            Dresses   \n",
            "57076028-92                  Skirts and shorts             Shorts   \n",
            "57068275-05                  Swim and intimate           Intimate   \n",
            "57067125-78              Dresses and jumpsuits            Dresses   \n",
            "57039120-PL                               Tops               Tops   \n",
            "\n",
            "                 des_product_type                          des_filename  \n",
            "cod_modelo_color                                                         \n",
            "41085800-02              Trousers  datathon/images/2019_41085800_02.jpg  \n",
            "53000586-TO                 Jeans  datathon/images/2019_53000586_TO.jpg  \n",
            "53030601-81                 Dress  datathon/images/2019_53030601_81.jpg  \n",
            "53050730-15                 Dress  datathon/images/2019_53050730_15.jpg  \n",
            "53070773-70                 Shirt  datathon/images/2019_53070773_70.jpg  \n",
            "...                           ...                                   ...  \n",
            "57066027-99                 Dress  datathon/images/2023_57066027_99.jpg  \n",
            "57076028-92                Shorts  datathon/images/2023_57076028_92.jpg  \n",
            "57068275-05                 Socks  datathon/images/2023_57068275_05.jpg  \n",
            "57067125-78                 Dress  datathon/images/2023_57067125_78.jpg  \n",
            "57039120-PL                   Top  datathon/images/2023_57039120_PL.jpg  \n",
            "\n",
            "[9222 rows x 12 columns]>\n"
          ]
        }
      ]
    },
    {
      "cell_type": "markdown",
      "source": [
        "In particular we want to see which colums we have."
      ],
      "metadata": {
        "id": "Y-GCA-4inMXc"
      }
    },
    {
      "cell_type": "code",
      "source": [
        "print(rawdata.columns)"
      ],
      "metadata": {
        "colab": {
          "base_uri": "https://localhost:8080/"
        },
        "id": "VPTtG7u2axFG",
        "outputId": "42aa6f19-133e-4b46-a356-50b97af7b85b"
      },
      "execution_count": 54,
      "outputs": [
        {
          "output_type": "stream",
          "name": "stdout",
          "text": [
            "Index(['cod_color_code', 'des_color_specification_esp', 'des_agrup_color_eng',\n",
            "       'des_sex', 'des_age', 'des_line', 'des_fabric', 'des_product_category',\n",
            "       'des_product_aggregated_family', 'des_product_family',\n",
            "       'des_product_type', 'des_filename'],\n",
            "      dtype='object')\n"
          ]
        }
      ]
    },
    {
      "cell_type": "markdown",
      "source": [
        "From the dataset description:\n",
        "\n",
        "1. cod_modelo_color - A unique identifier for a particular fashion product based on its model and color.\n",
        "2. cod_color_code - A code indicating the specific color of the product.\n",
        "3. des_color_specification_esp - Description of the color in Spanish.\n",
        "4. des_agrup_color_eng - Grouped color description in English.\n",
        "5. des_sex - Gender for which the product is intended (e.g., \"Unisex\", \"Female\", \"Male\").\n",
        "6. des_age - Age group for which the product is intended (e.g., \"Adult\", \"Child\").\n",
        "7. des_line - The line or collection to which the product belongs.\n",
        "8. des_fabric - The fabric or material of the product.\n",
        "9. des_product_category - Broad category of the product (e.g., \"Bottoms\", \"Tops\").\n",
        "10. des_product_aggregated_family - An aggregated family description of the product (e.g., \"Trousers & leggings\").\n",
        "11. des_product_family - Family description of the product (e.g., \"Trousers\", \"Shirts\").\n",
        "12. des_product_type - Type of the product within its family (e.g., \"Trousers\", \"Shirt\").\n",
        "13. des_filename - File path of the product image associated with the cod_modelo_color. Images can be found in the images folder. Image is always the frontal image of the product without a human model.\n"
      ],
      "metadata": {
        "id": "41OJHQxTnZtC"
      }
    },
    {
      "cell_type": "markdown",
      "source": [
        "All the data is categorical, so we should be careful and preprocess it.\n",
        "We will go column by column and try to reduce the number of unique values by removing outliers"
      ],
      "metadata": {
        "id": "vz94hGEAn5_n"
      }
    },
    {
      "cell_type": "markdown",
      "source": [
        "First we'll process `cod_counts`."
      ],
      "metadata": {
        "id": "_U7Wx_YOoiGU"
      }
    },
    {
      "cell_type": "code",
      "source": [
        "cod_counts = rawdata['cod_color_code'].value_counts()\n",
        "print(cod_counts)"
      ],
      "metadata": {
        "colab": {
          "base_uri": "https://localhost:8080/"
        },
        "id": "Ufm0KizhbQkX",
        "outputId": "b42b228b-8150-4f1e-a7e1-b132bd972897"
      },
      "execution_count": 55,
      "outputs": [
        {
          "output_type": "stream",
          "name": "stdout",
          "text": [
            "99    2119\n",
            "05     608\n",
            "02     563\n",
            "OR     445\n",
            "01     426\n",
            "      ... \n",
            "TL       1\n",
            "66       1\n",
            "93       1\n",
            "73       1\n",
            "97       1\n",
            "Name: cod_color_code, Length: 110, dtype: int64\n"
          ]
        }
      ]
    },
    {
      "cell_type": "markdown",
      "source": [
        "We see that there are a lot of unique values, but most of them only appear once, let's remove the rows with those rare values."
      ],
      "metadata": {
        "id": "mvNbT3xoouJV"
      }
    },
    {
      "cell_type": "code",
      "source": [
        "MIN_COD_FREQ = 30\n",
        "ndata1 = rawdata[rawdata['cod_color_code'].isin(cod_counts[cod_counts.gt(MIN_COD_FREQ)].index)]"
      ],
      "metadata": {
        "id": "IgEXbr3vdZtg"
      },
      "execution_count": 56,
      "outputs": []
    },
    {
      "cell_type": "code",
      "source": [
        "print(ndata1['cod_color_code'].value_counts().shape)\n",
        "print(rawdata.shape)\n",
        "print(ndata1.shape)"
      ],
      "metadata": {
        "colab": {
          "base_uri": "https://localhost:8080/"
        },
        "id": "6uI75uRge_Vv",
        "outputId": "111694e7-e845-4903-81bc-4792dc420551"
      },
      "execution_count": 57,
      "outputs": [
        {
          "output_type": "stream",
          "name": "stdout",
          "text": [
            "(48,)\n",
            "(9222, 12)\n",
            "(8606, 12)\n"
          ]
        }
      ]
    },
    {
      "cell_type": "markdown",
      "source": [
        "We have removed about 600 rows, but now there are less colors."
      ],
      "metadata": {
        "id": "BEqW3T9cpfFN"
      }
    },
    {
      "cell_type": "code",
      "source": [
        "agrup_counts = ndata1['des_agrup_color_eng'].value_counts()\n",
        "print(agrup_counts)"
      ],
      "metadata": {
        "colab": {
          "base_uri": "https://localhost:8080/"
        },
        "id": "oFJUDVe6tURg",
        "outputId": "8d83c749-0dd0-4027-80c4-02c080705997"
      },
      "execution_count": 58,
      "outputs": [
        {
          "output_type": "stream",
          "name": "stdout",
          "text": [
            "GREY      2824\n",
            "WHITE     2769\n",
            "BLUE       849\n",
            "BROWN      655\n",
            "RED        348\n",
            "GREEN      347\n",
            "PINK       346\n",
            "YELLOW     218\n",
            "ORANGE     169\n",
            "PURPLE      81\n",
            "Name: des_agrup_color_eng, dtype: int64\n"
          ]
        }
      ]
    },
    {
      "cell_type": "markdown",
      "source": [
        "We can see `des_agrup_color_eng` does not need any work."
      ],
      "metadata": {
        "id": "KhB1ePSxpxP8"
      }
    },
    {
      "cell_type": "markdown",
      "source": [
        "Now we are going to drop all rows except ones that have products for Female Adults from the line SHE, since that's what happens the majority of the times and since that allows us to remove the colums that contain that data."
      ],
      "metadata": {
        "id": "Q7Y90NKKp-jD"
      }
    },
    {
      "cell_type": "code",
      "source": [
        "ndata2 = ndata1[(ndata1['des_sex'] == 'Female') & (ndata1['des_age'] == 'Adult') & (ndata1['des_line'] == 'SHE')]\n",
        "print(ndata2.shape)\n",
        "print(ndata2.head)"
      ],
      "metadata": {
        "colab": {
          "base_uri": "https://localhost:8080/"
        },
        "id": "vMTLCyQ0txtd",
        "outputId": "c190fe63-1fd3-4892-ce42-693b1e00c45f"
      },
      "execution_count": 59,
      "outputs": [
        {
          "output_type": "stream",
          "name": "stdout",
          "text": [
            "(8532, 12)\n",
            "<bound method NDFrame.head of                  cod_color_code des_color_specification_esp  \\\n",
            "cod_modelo_color                                              \n",
            "41085800-02                  02                    OFFWHITE   \n",
            "53000586-TO                  TO               TEJANO OSCURO   \n",
            "53030601-81                  81                 ROSA PASTEL   \n",
            "53050730-15                  15                     MOSTAZA   \n",
            "53070773-70                  70                        ROJO   \n",
            "...                         ...                         ...   \n",
            "57066027-99                  99                       NEGRO   \n",
            "57076028-92                  92                        GRIS   \n",
            "57068275-05                  05                       CRUDO   \n",
            "57067125-78                  78                     BURDEOS   \n",
            "57039120-PL                  PL                       PLATA   \n",
            "\n",
            "                 des_agrup_color_eng des_sex des_age des_line      des_fabric  \\\n",
            "cod_modelo_color                                                                \n",
            "41085800-02                    WHITE  Female   Adult      SHE         P-PLANA   \n",
            "53000586-TO                     BLUE  Female   Adult      SHE         J-JEANS   \n",
            "53030601-81                     PINK  Female   Adult      SHE         P-PLANA   \n",
            "53050730-15                   YELLOW  Female   Adult      SHE         P-PLANA   \n",
            "53070773-70                      RED  Female   Adult      SHE         P-PLANA   \n",
            "...                              ...     ...     ...      ...             ...   \n",
            "57066027-99                     GREY  Female   Adult      SHE         P-PLANA   \n",
            "57076028-92                     GREY  Female   Adult      SHE         P-PLANA   \n",
            "57068275-05                    WHITE  Female   Adult      SHE  C-COMPLEMENTOS   \n",
            "57067125-78                      RED  Female   Adult      SHE      K-CIRCULAR   \n",
            "57039120-PL                     GREY  Female   Adult      SHE        T-TRICOT   \n",
            "\n",
            "                                 des_product_category  \\\n",
            "cod_modelo_color                                        \n",
            "41085800-02                                   Bottoms   \n",
            "53000586-TO                                   Bottoms   \n",
            "53030601-81       Dresses, jumpsuits and Complete set   \n",
            "53050730-15       Dresses, jumpsuits and Complete set   \n",
            "53070773-70                                      Tops   \n",
            "...                                               ...   \n",
            "57066027-99       Dresses, jumpsuits and Complete set   \n",
            "57076028-92                                   Bottoms   \n",
            "57068275-05             Accesories, Swim and Intimate   \n",
            "57067125-78       Dresses, jumpsuits and Complete set   \n",
            "57039120-PL                                      Tops   \n",
            "\n",
            "                 des_product_aggregated_family des_product_family  \\\n",
            "cod_modelo_color                                                    \n",
            "41085800-02                Trousers & leggings           Trousers   \n",
            "53000586-TO                              Jeans              Jeans   \n",
            "53030601-81              Dresses and jumpsuits            Dresses   \n",
            "53050730-15              Dresses and jumpsuits            Dresses   \n",
            "53070773-70                             Shirts              Shirt   \n",
            "...                                        ...                ...   \n",
            "57066027-99              Dresses and jumpsuits            Dresses   \n",
            "57076028-92                  Skirts and shorts             Shorts   \n",
            "57068275-05                  Swim and intimate           Intimate   \n",
            "57067125-78              Dresses and jumpsuits            Dresses   \n",
            "57039120-PL                               Tops               Tops   \n",
            "\n",
            "                 des_product_type                          des_filename  \n",
            "cod_modelo_color                                                         \n",
            "41085800-02              Trousers  datathon/images/2019_41085800_02.jpg  \n",
            "53000586-TO                 Jeans  datathon/images/2019_53000586_TO.jpg  \n",
            "53030601-81                 Dress  datathon/images/2019_53030601_81.jpg  \n",
            "53050730-15                 Dress  datathon/images/2019_53050730_15.jpg  \n",
            "53070773-70                 Shirt  datathon/images/2019_53070773_70.jpg  \n",
            "...                           ...                                   ...  \n",
            "57066027-99                 Dress  datathon/images/2023_57066027_99.jpg  \n",
            "57076028-92                Shorts  datathon/images/2023_57076028_92.jpg  \n",
            "57068275-05                 Socks  datathon/images/2023_57068275_05.jpg  \n",
            "57067125-78                 Dress  datathon/images/2023_57067125_78.jpg  \n",
            "57039120-PL                   Top  datathon/images/2023_57039120_PL.jpg  \n",
            "\n",
            "[8532 rows x 12 columns]>\n"
          ]
        }
      ]
    },
    {
      "cell_type": "code",
      "source": [
        "ndata3 = ndata2.drop(['des_sex', 'des_age', 'des_line'], axis=1)\n",
        "print(ndata3.shape)\n",
        "print(ndata3.head)"
      ],
      "metadata": {
        "colab": {
          "base_uri": "https://localhost:8080/"
        },
        "id": "GcPGJHWSv-k2",
        "outputId": "46b03397-71bb-47a3-ccc6-7a2cb850c896"
      },
      "execution_count": 60,
      "outputs": [
        {
          "output_type": "stream",
          "name": "stdout",
          "text": [
            "(8532, 9)\n",
            "<bound method NDFrame.head of                  cod_color_code des_color_specification_esp  \\\n",
            "cod_modelo_color                                              \n",
            "41085800-02                  02                    OFFWHITE   \n",
            "53000586-TO                  TO               TEJANO OSCURO   \n",
            "53030601-81                  81                 ROSA PASTEL   \n",
            "53050730-15                  15                     MOSTAZA   \n",
            "53070773-70                  70                        ROJO   \n",
            "...                         ...                         ...   \n",
            "57066027-99                  99                       NEGRO   \n",
            "57076028-92                  92                        GRIS   \n",
            "57068275-05                  05                       CRUDO   \n",
            "57067125-78                  78                     BURDEOS   \n",
            "57039120-PL                  PL                       PLATA   \n",
            "\n",
            "                 des_agrup_color_eng      des_fabric  \\\n",
            "cod_modelo_color                                       \n",
            "41085800-02                    WHITE         P-PLANA   \n",
            "53000586-TO                     BLUE         J-JEANS   \n",
            "53030601-81                     PINK         P-PLANA   \n",
            "53050730-15                   YELLOW         P-PLANA   \n",
            "53070773-70                      RED         P-PLANA   \n",
            "...                              ...             ...   \n",
            "57066027-99                     GREY         P-PLANA   \n",
            "57076028-92                     GREY         P-PLANA   \n",
            "57068275-05                    WHITE  C-COMPLEMENTOS   \n",
            "57067125-78                      RED      K-CIRCULAR   \n",
            "57039120-PL                     GREY        T-TRICOT   \n",
            "\n",
            "                                 des_product_category  \\\n",
            "cod_modelo_color                                        \n",
            "41085800-02                                   Bottoms   \n",
            "53000586-TO                                   Bottoms   \n",
            "53030601-81       Dresses, jumpsuits and Complete set   \n",
            "53050730-15       Dresses, jumpsuits and Complete set   \n",
            "53070773-70                                      Tops   \n",
            "...                                               ...   \n",
            "57066027-99       Dresses, jumpsuits and Complete set   \n",
            "57076028-92                                   Bottoms   \n",
            "57068275-05             Accesories, Swim and Intimate   \n",
            "57067125-78       Dresses, jumpsuits and Complete set   \n",
            "57039120-PL                                      Tops   \n",
            "\n",
            "                 des_product_aggregated_family des_product_family  \\\n",
            "cod_modelo_color                                                    \n",
            "41085800-02                Trousers & leggings           Trousers   \n",
            "53000586-TO                              Jeans              Jeans   \n",
            "53030601-81              Dresses and jumpsuits            Dresses   \n",
            "53050730-15              Dresses and jumpsuits            Dresses   \n",
            "53070773-70                             Shirts              Shirt   \n",
            "...                                        ...                ...   \n",
            "57066027-99              Dresses and jumpsuits            Dresses   \n",
            "57076028-92                  Skirts and shorts             Shorts   \n",
            "57068275-05                  Swim and intimate           Intimate   \n",
            "57067125-78              Dresses and jumpsuits            Dresses   \n",
            "57039120-PL                               Tops               Tops   \n",
            "\n",
            "                 des_product_type                          des_filename  \n",
            "cod_modelo_color                                                         \n",
            "41085800-02              Trousers  datathon/images/2019_41085800_02.jpg  \n",
            "53000586-TO                 Jeans  datathon/images/2019_53000586_TO.jpg  \n",
            "53030601-81                 Dress  datathon/images/2019_53030601_81.jpg  \n",
            "53050730-15                 Dress  datathon/images/2019_53050730_15.jpg  \n",
            "53070773-70                 Shirt  datathon/images/2019_53070773_70.jpg  \n",
            "...                           ...                                   ...  \n",
            "57066027-99                 Dress  datathon/images/2023_57066027_99.jpg  \n",
            "57076028-92                Shorts  datathon/images/2023_57076028_92.jpg  \n",
            "57068275-05                 Socks  datathon/images/2023_57068275_05.jpg  \n",
            "57067125-78                 Dress  datathon/images/2023_57067125_78.jpg  \n",
            "57039120-PL                   Top  datathon/images/2023_57039120_PL.jpg  \n",
            "\n",
            "[8532 rows x 9 columns]>\n"
          ]
        }
      ]
    },
    {
      "cell_type": "markdown",
      "source": [
        "Now we can drop some of the uncommon `des_product_family` values, some of which may be more difficult to create combinations with, like fragances and swimwear. We will remove those as well af some other outliers."
      ],
      "metadata": {
        "id": "Ek96Ado8qYuO"
      }
    },
    {
      "cell_type": "code",
      "source": [
        "fam_counts = ndata3['des_product_family'].value_counts()\n",
        "print(fam_counts)"
      ],
      "metadata": {
        "colab": {
          "base_uri": "https://localhost:8080/"
        },
        "id": "ldtxtep0xc_4",
        "outputId": "c69adf53-9c10-4807-ed07-79bd63915b2f"
      },
      "execution_count": 61,
      "outputs": [
        {
          "output_type": "stream",
          "name": "stdout",
          "text": [
            "Dresses                     1106\n",
            "Shirt                        634\n",
            "Sweater                      607\n",
            "T-shirt                      598\n",
            "Trousers                     572\n",
            "Jewellery                    570\n",
            "Bags                         560\n",
            "Tops                         503\n",
            "Skirts                       452\n",
            "Footwear                     444\n",
            "Jeans                        286\n",
            "Hats, scarves and gloves     253\n",
            "Jackets                      193\n",
            "Jumpsuit                     170\n",
            "Wallets & cases              168\n",
            "Coats                        164\n",
            "Belts and Ties               156\n",
            "Cardigans                    156\n",
            "Shorts                       144\n",
            "Blazers                      141\n",
            "Intimate                     129\n",
            "Glasses                      124\n",
            "Puffer coats                  64\n",
            "Sweatshirts                   54\n",
            "Swimwear                      44\n",
            "Vest                          42\n",
            "Trenchcoats                   42\n",
            "Leggings and joggers          39\n",
            "Fragances                     30\n",
            "Bodysuits                     26\n",
            "Gadgets                       20\n",
            "Leather jackets               15\n",
            "Outer Vest                    11\n",
            "Poloshirts                     8\n",
            "Parkas                         7\n",
            "Name: des_product_family, dtype: int64\n"
          ]
        }
      ]
    },
    {
      "cell_type": "code",
      "source": [
        "MIN_FAM_FREQ = 45\n",
        "ndata4 = ndata3[ndata3['des_product_family'].isin(fam_counts[fam_counts.gt(MIN_FAM_FREQ)].index)]"
      ],
      "metadata": {
        "id": "I8eoh0E9yiQz"
      },
      "execution_count": 62,
      "outputs": []
    },
    {
      "cell_type": "code",
      "source": [
        "print(ndata4['des_product_family'].value_counts().shape)\n",
        "print(ndata3.shape)\n",
        "print(ndata4.shape)"
      ],
      "metadata": {
        "colab": {
          "base_uri": "https://localhost:8080/"
        },
        "id": "haa7GxGhzE9e",
        "outputId": "852368e6-1412-459d-9c4d-e6a29e5a1dd5"
      },
      "execution_count": 63,
      "outputs": [
        {
          "output_type": "stream",
          "name": "stdout",
          "text": [
            "(24,)\n",
            "(8532, 9)\n",
            "(8248, 9)\n"
          ]
        }
      ]
    },
    {
      "cell_type": "markdown",
      "source": [
        "Now we will drop some other columns that are either too specific or contain almost identical data to another column."
      ],
      "metadata": {
        "id": "9QGT9Yejq3ac"
      }
    },
    {
      "cell_type": "code",
      "source": [
        "todrop = ['des_color_specification_esp','des_product_aggregated_family','des_product_type']\n",
        "ndata5 = ndata4.drop(todrop, axis=1)"
      ],
      "metadata": {
        "id": "frxGy_sgzpla"
      },
      "execution_count": 64,
      "outputs": []
    },
    {
      "cell_type": "code",
      "source": [
        "defdata = ndata5"
      ],
      "metadata": {
        "id": "0k_3cwr20-UY"
      },
      "execution_count": 65,
      "outputs": []
    },
    {
      "cell_type": "markdown",
      "source": [
        "We can overview the remaining data. We have dropped less than 10% of the dataset and have 5 remaining columns."
      ],
      "metadata": {
        "id": "kkaok7pqrHEi"
      }
    },
    {
      "cell_type": "code",
      "source": [
        "print(defdata.shape)\n",
        "print(defdata.head)"
      ],
      "metadata": {
        "colab": {
          "base_uri": "https://localhost:8080/"
        },
        "id": "yxTEkCWY2P-w",
        "outputId": "b9d9a97f-22cf-416b-f0fb-323c1204cf22"
      },
      "execution_count": 66,
      "outputs": [
        {
          "output_type": "stream",
          "name": "stdout",
          "text": [
            "(8248, 6)\n",
            "<bound method NDFrame.head of                  cod_color_code des_agrup_color_eng      des_fabric  \\\n",
            "cod_modelo_color                                                      \n",
            "41085800-02                  02               WHITE         P-PLANA   \n",
            "53000586-TO                  TO                BLUE         J-JEANS   \n",
            "53030601-81                  81                PINK         P-PLANA   \n",
            "53050730-15                  15              YELLOW         P-PLANA   \n",
            "53070773-70                  70                 RED         P-PLANA   \n",
            "...                         ...                 ...             ...   \n",
            "57066027-99                  99                GREY         P-PLANA   \n",
            "57076028-92                  92                GREY         P-PLANA   \n",
            "57068275-05                  05               WHITE  C-COMPLEMENTOS   \n",
            "57067125-78                  78                 RED      K-CIRCULAR   \n",
            "57039120-PL                  PL                GREY        T-TRICOT   \n",
            "\n",
            "                                 des_product_category des_product_family  \\\n",
            "cod_modelo_color                                                           \n",
            "41085800-02                                   Bottoms           Trousers   \n",
            "53000586-TO                                   Bottoms              Jeans   \n",
            "53030601-81       Dresses, jumpsuits and Complete set            Dresses   \n",
            "53050730-15       Dresses, jumpsuits and Complete set            Dresses   \n",
            "53070773-70                                      Tops              Shirt   \n",
            "...                                               ...                ...   \n",
            "57066027-99       Dresses, jumpsuits and Complete set            Dresses   \n",
            "57076028-92                                   Bottoms             Shorts   \n",
            "57068275-05             Accesories, Swim and Intimate           Intimate   \n",
            "57067125-78       Dresses, jumpsuits and Complete set            Dresses   \n",
            "57039120-PL                                      Tops               Tops   \n",
            "\n",
            "                                          des_filename  \n",
            "cod_modelo_color                                        \n",
            "41085800-02       datathon/images/2019_41085800_02.jpg  \n",
            "53000586-TO       datathon/images/2019_53000586_TO.jpg  \n",
            "53030601-81       datathon/images/2019_53030601_81.jpg  \n",
            "53050730-15       datathon/images/2019_53050730_15.jpg  \n",
            "53070773-70       datathon/images/2019_53070773_70.jpg  \n",
            "...                                                ...  \n",
            "57066027-99       datathon/images/2023_57066027_99.jpg  \n",
            "57076028-92       datathon/images/2023_57076028_92.jpg  \n",
            "57068275-05       datathon/images/2023_57068275_05.jpg  \n",
            "57067125-78       datathon/images/2023_57067125_78.jpg  \n",
            "57039120-PL       datathon/images/2023_57039120_PL.jpg  \n",
            "\n",
            "[8248 rows x 6 columns]>\n"
          ]
        }
      ]
    },
    {
      "cell_type": "code",
      "source": [
        "for column in defdata:\n",
        "  print(column, defdata[column].value_counts().shape)"
      ],
      "metadata": {
        "id": "HOMz-q122zmK",
        "outputId": "9d65a9f5-500d-45e3-fb2e-9a4c5ed0315b",
        "colab": {
          "base_uri": "https://localhost:8080/"
        }
      },
      "execution_count": 67,
      "outputs": [
        {
          "output_type": "stream",
          "name": "stdout",
          "text": [
            "cod_color_code (48,)\n",
            "des_agrup_color_eng (10,)\n",
            "des_fabric (7,)\n",
            "des_product_category (6,)\n",
            "des_product_family (24,)\n",
            "des_filename (8248,)\n"
          ]
        }
      ]
    },
    {
      "cell_type": "markdown",
      "source": [
        "As we can see above the number of unique values in each column and the number of columns has been reduced. This is very useful for AI models that can use One Hot Encoding more easily or for any other application."
      ],
      "metadata": {
        "id": "VPB2qZvPrQj4"
      }
    },
    {
      "cell_type": "code",
      "source": [
        "defdata.to_csv('clean_product_data_with_filenames.csv')"
      ],
      "metadata": {
        "id": "bPASMvnmbqoF"
      },
      "execution_count": 68,
      "outputs": []
    },
    {
      "cell_type": "markdown",
      "source": [
        "In the end we save our obtained data."
      ],
      "metadata": {
        "id": "XZZBWNwhrq_G"
      }
    },
    {
      "cell_type": "code",
      "source": [
        "defdatanofile = defdata.drop('des_filename', axis=1)\n",
        "defdatanofile.to_csv('clean_product_data.csv')"
      ],
      "metadata": {
        "id": "bPPK2AxTsKfG"
      },
      "execution_count": 69,
      "outputs": []
    },
    {
      "cell_type": "markdown",
      "source": [
        "We may also want a version without files for other applications."
      ],
      "metadata": {
        "id": "xW8p2UFmsJ3Y"
      }
    }
  ]
}